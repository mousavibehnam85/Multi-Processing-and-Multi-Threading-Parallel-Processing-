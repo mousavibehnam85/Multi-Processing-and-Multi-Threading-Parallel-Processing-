{
 "cells": [
  {
   "cell_type": "code",
   "execution_count": 1,
   "id": "88b48dc1-89c6-43ad-83df-9182f48af796",
   "metadata": {},
   "outputs": [],
   "source": [
    "# Multiprocessing - fixing the error\n",
    "\n",
   ]
  },
  {
   "cell_type": "code",
   "execution_count": 3,
   "id": "6ced8bc4-4a32-4276-838b-fcb48f7d5a4b",
   "metadata": {},
   "outputs": [
    {
     "name": "stdout",
     "output_type": "stream",
     "text": [
      "Task 0 running in process ID 17683\n",
      "Task 0 finished in 0.2551 seconds\n",
      "Task 1 running in process ID 17684\n",
      "Task 1 finished in 0.2551 seconds\n",
      "Task 2 running in process ID 17685\n",
      "Task 2 finished in 0.2535 seconds\n",
      "Task 3 running in process ID 17686\n",
      "Task 3 finished in 0.2498 seconds\n",
      "All tasks completed\n"
     ]
    }
   ],
   "source": [
    "import multiprocessing\n",
    "from tasks import cpu_task\n",
    "\n",
    "if __name__ == \"__main__\":\n",
    "    num_processes = 4\n",
    "\n",
    "    processes = []\n",
    "    for i in range(num_processes):\n",
    "        process = multiprocessing.Process(target=cpu_task, args=(i,))\n",
    "        processes.append(process)\n",
    "        process.start()\n",
    "\n",
    "    for process in processes:\n",
    "        process.join()\n",
    "\n",
    "    print(\"All tasks completed\")"
   ]
  },
  {
   "cell_type": "code",
   "execution_count": null,
   "id": "e8585a42-5c68-4ea2-aafd-302fac694ebf",
   "metadata": {},
   "outputs": [],
   "source": []
  }
 ],
 "metadata": {
  "kernelspec": {
   "display_name": "Python 3.9",
   "language": "python",
   "name": "python3.9"
  },
  "language_info": {
   "codemirror_mode": {
    "name": "ipython",
    "version": 3
   },
   "file_extension": ".py",
   "mimetype": "text/x-python",
   "name": "python",
   "nbconvert_exporter": "python",
   "pygments_lexer": "ipython3",
   "version": "3.9.18"
  }
 },
 "nbformat": 4,
 "nbformat_minor": 5
}

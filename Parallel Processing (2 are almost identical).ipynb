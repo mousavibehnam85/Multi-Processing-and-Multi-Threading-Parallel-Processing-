{
 "cells": [
  {
   "cell_type": "code",
   "execution_count": 2,
   "id": "4beeed33-01e2-454f-a30a-16e78e708273",
   "metadata": {},
   "outputs": [
    {
     "name": "stdout",
     "output_type": "stream",
     "text": [
      "Task 0 startedTask 1 started\n",
      "\n",
      "Task 2 started\n",
      "Task 3 started\n",
      "Task 4 started\n",
      "Task 2 finishedTask 1 finished\n",
      "Task 0 finished\n",
      "\n",
      "Task 3 finished\n",
      "Task 4 finished\n",
      "All tasks completed\n"
     ]
    }
   ],
   "source": [
    "#### Parallelism\n",
    "\n",
    "import threading\n",
    "import time\n",
    "\n",
    "# Function to simulate a task that takes some time\n",
    "def task(task_id):\n",
    "    print(f\"Task {task_id} started\")\n",
    "    time.sleep(4)  # Simulate the task taking 2 seconds\n",
    "    print(f\"Task {task_id} finished\")\n",
    "\n",
    "if __name__ == \"__main__\":\n",
    "    num_tasks = 5\n",
    "\n",
    "    # Creating and starting threads to execute tasks\n",
    "    threads = []\n",
    "    for i in range(num_tasks):\n",
    "        thread = threading.Thread(target=task, args=(i,))# probably gives an index in a array form to thread variable\n",
    "        threads.append(thread)\n",
    "        thread.start()# executes what is written for thread = \n",
    "\n",
    "    # Waiting for all threads to complete\n",
    "    for thread in threads:\n",
    "        thread.join()\n",
    "\n",
    "    print(\"All tasks completed\")"
   ]
  },
  {
   "cell_type": "code",
   "execution_count": 1,
   "id": "b5374550-0874-4a7e-af14-2307cc8e1143",
   "metadata": {},
   "outputs": [
    {
     "name": "stdout",
     "output_type": "stream",
     "text": [
      "All tasks completed\n"
     ]
    },
    {
     "name": "stderr",
     "output_type": "stream",
     "text": [
      "Traceback (most recent call last):\n",
      "  File \"<string>\", line 1, in <module>\n",
      "  File \"/usr/local/Cellar/python@3.9/3.9.18_1/Frameworks/Python.framework/Versions/3.9/lib/python3.9/multiprocessing/spawn.py\", line 116, in spawn_main\n",
      "Traceback (most recent call last):\n",
      "  File \"<string>\", line 1, in <module>\n",
      "  File \"/usr/local/Cellar/python@3.9/3.9.18_1/Frameworks/Python.framework/Versions/3.9/lib/python3.9/multiprocessing/spawn.py\", line 116, in spawn_main\n",
      "    exitcode = _main(fd, parent_sentinel)\n",
      "  File \"/usr/local/Cellar/python@3.9/3.9.18_1/Frameworks/Python.framework/Versions/3.9/lib/python3.9/multiprocessing/spawn.py\", line 126, in _main\n",
      "    exitcode = _main(fd, parent_sentinel)\n",
      "  File \"/usr/local/Cellar/python@3.9/3.9.18_1/Frameworks/Python.framework/Versions/3.9/lib/python3.9/multiprocessing/spawn.py\", line 126, in _main\n",
      "    self = reduction.pickle.load(from_parent)\n",
      "AttributeError: Can't get attribute 'cpu_task' on <module '__main__' (built-in)>\n",
      "    self = reduction.pickle.load(from_parent)\n",
      "AttributeError: Can't get attribute 'cpu_task' on <module '__main__' (built-in)>\n",
      "Traceback (most recent call last):\n",
      "  File \"<string>\", line 1, in <module>\n",
      "  File \"/usr/local/Cellar/python@3.9/3.9.18_1/Frameworks/Python.framework/Versions/3.9/lib/python3.9/multiprocessing/spawn.py\", line 116, in spawn_main\n",
      "    exitcode = _main(fd, parent_sentinel)\n",
      "  File \"/usr/local/Cellar/python@3.9/3.9.18_1/Frameworks/Python.framework/Versions/3.9/lib/python3.9/multiprocessing/spawn.py\", line 126, in _main\n",
      "    self = reduction.pickle.load(from_parent)\n",
      "AttributeError: Can't get attribute 'cpu_task' on <module '__main__' (built-in)>\n",
      "Traceback (most recent call last):\n",
      "  File \"<string>\", line 1, in <module>\n",
      "  File \"/usr/local/Cellar/python@3.9/3.9.18_1/Frameworks/Python.framework/Versions/3.9/lib/python3.9/multiprocessing/spawn.py\", line 116, in spawn_main\n",
      "    exitcode = _main(fd, parent_sentinel)\n",
      "  File \"/usr/local/Cellar/python@3.9/3.9.18_1/Frameworks/Python.framework/Versions/3.9/lib/python3.9/multiprocessing/spawn.py\", line 126, in _main\n",
      "    self = reduction.pickle.load(from_parent)\n",
      "AttributeError: Can't get attribute 'cpu_task' on <module '__main__' (built-in)>\n"
     ]
    }
   ],
   "source": [
    "#### Multiprocessing\n",
    "\n",
    "import multiprocessing\n",
    "import os\n",
    "import time\n",
    "\n",
    "# Function to simulate a CPU-bound task\n",
    "def cpu_task(task_id):\n",
    "    print(f\"Task {task_id} running in process ID {os.getpid()}\")\n",
    "    start_time = time.time()\n",
    "    # Simulate a CPU-bound task\n",
    "    for _ in range(10 ** 7):  #is a loop that iterates a very large number of times\n",
    "        pass\n",
    "    end_time = time.time()\n",
    "    print(f\"Task {task_id} finished in {end_time - start_time:.4f} seconds\")\n",
    "\n",
    "if __name__ == \"__main__\":\n",
    "    num_processes = 4\n",
    "\n",
    "    # Create and start multiple processes to execute CPU-bound tasks\n",
    "    processes = []\n",
    "    for i in range(num_processes):\n",
    "        process = multiprocessing.Process(target=cpu_task, args=(i,))\n",
    "        processes.append(process)\n",
    "        process.start()\n",
    "\n",
    "    # Wait for all processes to complete\n",
    "    for process in processes:\n",
    "        process.join()\n",
    "\n",
    "    print(\"All tasks completed\")"
   ]
  },
  {
   "cell_type": "code",
   "execution_count": 16,
   "id": "d3495af4-acc5-4b26-b55a-02c23a125866",
   "metadata": {},
   "outputs": [
    {
     "name": "stdout",
     "output_type": "stream",
     "text": [
      "Task 0 started\n",
      "Task 1 started\n",
      "Task 2 started\n",
      "Task 3 started\n",
      "Task 4 started\n",
      "Task 0 finishedTask 2 finished\n",
      "Task 3 finished\n",
      "Task 4 finished\n",
      "Task 1 finished\n",
      "\n",
      "All tasks completed\n"
     ]
    }
   ],
   "source": [
    "#### Parallelism\n",
    "\n",
    "import threading\n",
    "import time\n",
    "\n",
    "# Function to simulate a task that takes some time\n",
    "def task(task_id):\n",
    "    print(f\"Task {task_id} started\")\n",
    "    time.sleep(4)  # Simulate the task taking 2 seconds\n",
    "    print(f\"Task {task_id} finished\")\n",
    "\n",
    "if __name__ == \"__main__\":\n",
    "    num_tasks = 5\n",
    "\n",
    "    # Creating and starting threads to execute tasks\n",
    "    threads = []\n",
    "    for i in range(num_tasks):\n",
    "        thread = threading.Thread(target=task, args=(i,))# probably gives an index in a array form to thread variable\n",
    "        threads.append(thread)\n",
    "        thread.start()# executes what is written for thread = \n",
    "\n",
    "    # Waiting for all threads to complete\n",
    "    for thread in threads:\n",
    "        thread.join()\n",
    "\n",
    "    print(\"All tasks completed\")"
   ]
  },
  {
   "cell_type": "code",
   "execution_count": null,
   "id": "65122bb3-96f8-4d3e-b1a1-e6adcdb2a446",
   "metadata": {},
   "outputs": [],
   "source": []
  }
 ],
 "metadata": {
  "kernelspec": {
   "display_name": "Python 3.9 (myenv)",
   "language": "python",
   "name": "myenv"
  },
  "language_info": {
   "codemirror_mode": {
    "name": "ipython",
    "version": 3
   },
   "file_extension": ".py",
   "mimetype": "text/x-python",
   "name": "python",
   "nbconvert_exporter": "python",
   "pygments_lexer": "ipython3",
   "version": "3.9.18"
  }
 },
 "nbformat": 4,
 "nbformat_minor": 5
}

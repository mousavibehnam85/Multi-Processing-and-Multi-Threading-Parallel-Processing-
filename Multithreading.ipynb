{
 "cells": [
  {
   "cell_type": "code",
   "execution_count": 8,
   "id": "2d20db46-5fbc-453a-82fa-7298d3f36c9d",
   "metadata": {},
   "outputs": [
    {
     "name": "stdout",
     "output_type": "stream",
     "text": [
      "Starting I/O-bound task 0\n",
      "Starting I/O-bound task 1\n",
      "Starting I/O-bound task 2\n",
      "Starting I/O-bound task 3\n",
      "Starting I/O-bound task 4\n",
      "Finished I/O-bound task 0\n",
      "Finished I/O-bound task 1\n",
      "Finished I/O-bound task 2\n",
      "Finished I/O-bound task 3\n",
      "Finished I/O-bound task 4\n",
      "All tasks completed\n"
     ]
    }
   ],
   "source": [
    "#### Multi threading example\n",
    "\n",
    "import threading\n",
    "import time\n",
    "\n",
    "# Function to simulate an I/O-bound task\n",
    "def io_task(task_id):\n",
    "    print(f\"Starting I/O-bound task {task_id}\")\n",
    "    time.sleep(5)  # Simulate I/O-bound task taking 2 seconds\n",
    "    print(f\"Finished I/O-bound task {task_id}\")\n",
    "\n",
    "if __name__ == \"__main__\":\n",
    "    # Create multiple threads to execute I/O-bound tasks concurrently\n",
    "    threads = [] #creates an empty list threads. This list will be used to keep references to the individual thread objects that will be created in the loop\n",
    "    num_tasks = 5\n",
    "\n",
    "    for i in range(num_tasks):\n",
    "        thread = threading.Thread(target=io_task, args=(i,))\n",
    "# args is used to pass arguments to the target function (io_task in this case) that will be executed within the thread. \n",
    "#i is necessary to denote that it's not a tuple with one element; otherwise, (i) would be interpreted as just i        \n",
    "#The args=(i,) parameter passes the value i as an argument to io_task for each thread created in the loop.\n",
    " \n",
    "        threads.append(thread) #is used to add the thread object created by threading.Thread() into the threads list\n",
    "#without it the code will still create and start the threads, but it won't keep references to those thread objects.\n",
    "      \n",
    "        thread.start()#thread.start() initiates the execution of the io_task function within a new thread.\n",
    "\n",
    "    # Wait for all threads to complete\n",
    "    for thread in threads:\n",
    "        thread.join() #used for waiting for all threads to be complete\n",
    "\n",
    "    print(\"All tasks completed\")"
   ]
  },
  {
   "cell_type": "code",
   "execution_count": null,
   "id": "05147087-5e65-441f-8e0e-9ef322528c73",
   "metadata": {},
   "outputs": [],
   "source": []
  }
 ],
 "metadata": {
  "kernelspec": {
   "display_name": "Python 3.9 (myenv)",
   "language": "python",
   "name": "myenv"
  },
  "language_info": {
   "codemirror_mode": {
    "name": "ipython",
    "version": 3
   },
   "file_extension": ".py",
   "mimetype": "text/x-python",
   "name": "python",
   "nbconvert_exporter": "python",
   "pygments_lexer": "ipython3",
   "version": "3.9.18"
  }
 },
 "nbformat": 4,
 "nbformat_minor": 5
}
